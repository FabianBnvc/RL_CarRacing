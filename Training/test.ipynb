{
 "cells": [
  {
   "cell_type": "code",
   "execution_count": 1,
   "metadata": {},
   "outputs": [],
   "source": [
    "# https://github.com/andywu0913/OpenAI-GYM-CarRacing-DQN/tree/master - Testing functin inspired by the training function in this repo\n",
    "# https://pytorch.org/tutorials/intermediate/reinforcement_q_learning.html"
   ]
  },
  {
   "cell_type": "markdown",
   "metadata": {},
   "source": [
    "### Imports"
   ]
  },
  {
   "cell_type": "code",
   "execution_count": 2,
   "metadata": {},
   "outputs": [],
   "source": [
    "import gym\n",
    "from collections import deque\n",
    "\n",
    "import pandas as pd\n",
    "import torch\n",
    "\n",
    "from agent import Agent\n",
    "from processing import process_state_image, generate_state_frame_stack_from_queue"
   ]
  },
  {
   "cell_type": "code",
   "execution_count": 3,
   "metadata": {},
   "outputs": [
    {
     "data": {
      "text/plain": [
       "device(type='cuda')"
      ]
     },
     "execution_count": 3,
     "metadata": {},
     "output_type": "execute_result"
    }
   ],
   "source": [
    "# Check if GPU is available\n",
    "device = torch.device(\"cuda\" if torch.cuda.is_available() else \"cpu\")\n",
    "device"
   ]
  },
  {
   "cell_type": "markdown",
   "metadata": {},
   "source": [
    "### Variables"
   ]
  },
  {
   "cell_type": "code",
   "execution_count": 4,
   "metadata": {},
   "outputs": [],
   "source": [
    "# Set the folder path of the model you want to test\n",
    "folder = \"runs/run_20240704234303\""
   ]
  },
  {
   "cell_type": "code",
   "execution_count": 5,
   "metadata": {},
   "outputs": [],
   "source": [
    "# Read config file to get the configurations\n",
    "config_df = pd.read_csv(folder + '/configurations.csv')\n",
    "configurations = pd.Series(config_df.Value.values, index=config_df.Parameter).to_dict()"
   ]
  },
  {
   "cell_type": "code",
   "execution_count": 6,
   "metadata": {},
   "outputs": [],
   "source": [
    "# Setting up all variables needed for initialization of the agent and the testing\n",
    "seed = int(configurations['seed'])\n",
    "episodes = int(configurations['episodes'])\n",
    "frame_stack_num = int(configurations['frame_stack_num'])\n",
    "memory_size = int(configurations['memory_size'])\n",
    "gamma = configurations['gamma']\n",
    "epsilon = configurations['epsilon']\n",
    "epsilon_min = configurations['epsilon_min']\n",
    "epsilon_decay = configurations['epsilon_decay']\n",
    "learning_rate = float(configurations['learning_rate'])\n",
    "batch_size = int(configurations['batch_size'])\n",
    "#update_every_n = int(configurations['update_every_n'])\n",
    "#negative_reward_counter_n = int(configurations['negative_reward_counter_n'])"
   ]
  },
  {
   "cell_type": "markdown",
   "metadata": {},
   "source": [
    "### Environment and Agent"
   ]
  },
  {
   "cell_type": "code",
   "execution_count": 7,
   "metadata": {},
   "outputs": [],
   "source": [
    "# Create the environment and the agent\n",
    "env = gym.make(\n",
    "    'CarRacing-v2',\n",
    "    render_mode='rgb_array',\n",
    "    continuous=False,\n",
    "    max_episode_steps=1000\n",
    ")\n",
    "\n",
    "testing_agent = Agent(\n",
    "    action_space=env.action_space,\n",
    "    frame_stack_num=frame_stack_num,\n",
    "    memory_size=memory_size,\n",
    "    gamma=gamma,\n",
    "    epsilon=epsilon,\n",
    "    epsilon_min=epsilon_min,\n",
    "    epsilon_decay=epsilon_decay,\n",
    "    learning_rate=learning_rate,\n",
    "    seed=seed\n",
    ")\n",
    "\n",
    "# Load the trained model\n",
    "testing_agent.load(f'{folder}/trained_model.pth')"
   ]
  },
  {
   "cell_type": "markdown",
   "metadata": {},
   "source": [
    "### Testing"
   ]
  },
  {
   "cell_type": "code",
   "execution_count": 8,
   "metadata": {},
   "outputs": [],
   "source": [
    "def testing(env, test, seed):\n",
    "    \"\"\"\n",
    "    Function to test the model.\n",
    "\n",
    "    Args:\n",
    "        env (gym.Env): The gym environment to be tested.\n",
    "        test (Agent): The testing agent.\n",
    "        seed (int): Seed for the environment.\n",
    "\n",
    "    Returns:\n",
    "        float: The total reward obtained during the test.\n",
    "    \"\"\"\n",
    "\n",
    "    # Resetting the environment and setting up the video recording\n",
    "    state, _ = env.reset(seed=seed)\n",
    "    env = gym.wrappers.RecordVideo(\n",
    "        env=env,\n",
    "        video_folder=f'{folder}/Video',\n",
    "        video_length=0\n",
    "    )\n",
    "\n",
    "    # Setting up the initial state and initializing the reward\n",
    "    init_state = process_state_image(state)\n",
    "    state_frame_stack_queue = deque([init_state] * test.frame_stack_num, maxlen=test.frame_stack_num)\n",
    "    total_reward = 0\n",
    "\n",
    "    # Playing the game\n",
    "    done = False\n",
    "    while not done:\n",
    "\n",
    "        # Getting the action from the agent\n",
    "        current_state_frame_stack = generate_state_frame_stack_from_queue(state_frame_stack_queue)\n",
    "        action = test.act(current_state_frame_stack, testing=True)\n",
    "\n",
    "        # Taking the action and getting the next state\n",
    "        reward = 0\n",
    "        for _ in range(frame_stack_num-1):\n",
    "            next_state, r, terminated, truncated, info = env.step(action)\n",
    "            if terminated or truncated:\n",
    "                done = True\n",
    "            else:\n",
    "                done = False\n",
    "            reward += r\n",
    "            if done:\n",
    "                break\n",
    "        \n",
    "        # Updating the total reward\n",
    "        total_reward += reward\n",
    "\n",
    "        # Adding the next state to the queue\n",
    "        next_state = process_state_image(next_state)\n",
    "        state_frame_stack_queue.append(next_state)\n",
    "    \n",
    "    # Closing the environment and returning the total reward\n",
    "    env.close()\n",
    "    return total_reward"
   ]
  },
  {
   "cell_type": "code",
   "execution_count": 9,
   "metadata": {},
   "outputs": [
    {
     "name": "stderr",
     "output_type": "stream",
     "text": [
      "c:\\Users\\fabia\\anaconda3\\envs\\car\\lib\\site-packages\\gym\\wrappers\\record_video.py:75: UserWarning: \u001b[33mWARN: Overwriting existing videos at c:\\Users\\fabia\\Desktop\\Studium\\RL\\RL_CarRacing\\Training\\runs\\run_20240704234303\\Video folder (try specifying a different `video_folder` for the `RecordVideo` wrapper if this is not desired)\u001b[0m\n",
      "  logger.warn(\n"
     ]
    },
    {
     "name": "stdout",
     "output_type": "stream",
     "text": [
      "Moviepy - Building video c:\\Users\\fabia\\Desktop\\Studium\\RL\\RL_CarRacing\\Training\\runs\\run_20240704234303\\Video\\rl-video-episode-0.mp4.\n",
      "Moviepy - Writing video c:\\Users\\fabia\\Desktop\\Studium\\RL\\RL_CarRacing\\Training\\runs\\run_20240704234303\\Video\\rl-video-episode-0.mp4\n",
      "\n"
     ]
    },
    {
     "name": "stderr",
     "output_type": "stream",
     "text": [
      "                                                                "
     ]
    },
    {
     "name": "stdout",
     "output_type": "stream",
     "text": [
      "Moviepy - Done !\n",
      "Moviepy - video ready c:\\Users\\fabia\\Desktop\\Studium\\RL\\RL_CarRacing\\Training\\runs\\run_20240704234303\\Video\\rl-video-episode-0.mp4\n"
     ]
    },
    {
     "name": "stderr",
     "output_type": "stream",
     "text": [
      "\r"
     ]
    },
    {
     "data": {
      "text/plain": [
       "699.9999999999839"
      ]
     },
     "execution_count": 9,
     "metadata": {},
     "output_type": "execute_result"
    }
   ],
   "source": [
    "testing(env, testing_agent, seed)"
   ]
  }
 ],
 "metadata": {
  "kernelspec": {
   "display_name": "car",
   "language": "python",
   "name": "python3"
  },
  "language_info": {
   "codemirror_mode": {
    "name": "ipython",
    "version": 3
   },
   "file_extension": ".py",
   "mimetype": "text/x-python",
   "name": "python",
   "nbconvert_exporter": "python",
   "pygments_lexer": "ipython3",
   "version": "3.10.0"
  }
 },
 "nbformat": 4,
 "nbformat_minor": 2
}
