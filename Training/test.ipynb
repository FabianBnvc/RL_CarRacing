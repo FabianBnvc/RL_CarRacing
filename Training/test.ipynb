{
 "cells": [
  {
   "cell_type": "code",
   "execution_count": 1,
   "metadata": {},
   "outputs": [],
   "source": [
    "# https://github.com/andywu0913/OpenAI-GYM-CarRacing-DQN/tree/master\n",
    "# https://pytorch.org/tutorials/intermediate/reinforcement_q_learning.html\n",
    "# https://github.com/pytorch/tutorials/blob/main/intermediate_source/reinforcement_q_learning.py"
   ]
  },
  {
   "cell_type": "code",
   "execution_count": 2,
   "metadata": {},
   "outputs": [],
   "source": [
    "import gym\n",
    "from collections import deque\n",
    "import torch\n",
    "import pandas as pd\n",
    "\n",
    "from agent import Agent\n",
    "from processing import process_state_image, generate_state_frame_stack_from_queue"
   ]
  },
  {
   "cell_type": "markdown",
   "metadata": {},
   "source": [
    "### Variables"
   ]
  },
  {
   "cell_type": "code",
   "execution_count": 3,
   "metadata": {},
   "outputs": [
    {
     "data": {
      "text/plain": [
       "device(type='cuda')"
      ]
     },
     "execution_count": 3,
     "metadata": {},
     "output_type": "execute_result"
    }
   ],
   "source": [
    "device = torch.device(\"cuda\" if torch.cuda.is_available() else \"cpu\")\n",
    "device"
   ]
  },
  {
   "cell_type": "code",
   "execution_count": 4,
   "metadata": {},
   "outputs": [],
   "source": [
    "# Set the folder path of the model you want to test\n",
    "folder = \"runs/run_20240703161917\""
   ]
  },
  {
   "cell_type": "code",
   "execution_count": 5,
   "metadata": {},
   "outputs": [],
   "source": [
    "# Read config file to get the configurations\n",
    "config_df = pd.read_csv(folder + '/configurations.csv')\n",
    "configurations = pd.Series(config_df.Value.values, index=config_df.Parameter).to_dict()"
   ]
  },
  {
   "cell_type": "code",
   "execution_count": 6,
   "metadata": {},
   "outputs": [],
   "source": [
    "seed = int(configurations['seed'])\n",
    "episodes = int(configurations['episodes'])\n",
    "frame_stack_num = int(configurations['frame_stack_num'])\n",
    "memory_size = int(configurations['memory_size'])\n",
    "gamma = configurations['gamma']\n",
    "epsilon = configurations['epsilon']\n",
    "epsilon_min = configurations['epsilon_min']\n",
    "epsilon_decay = configurations['epsilon_decay']\n",
    "learning_rate = configurations['learning_rate']\n",
    "batch_size = int(configurations['batch_size'])\n",
    "update_every_n = int(configurations['update_every_n'])\n",
    "negative_reward_counter_n = int(configurations['negative_reward_counter_n'])"
   ]
  },
  {
   "cell_type": "code",
   "execution_count": 7,
   "metadata": {},
   "outputs": [],
   "source": [
    "env = gym.make('CarRacing-v2', render_mode='rgb_array', continuous=False)\n",
    "testing_agent = Agent(\n",
    "    action_space = env.action_space, \n",
    "    frame_stack_num = frame_stack_num,\n",
    "    memory_size = memory_size,\n",
    "    gamma = gamma,\n",
    "    epsilon = epsilon,\n",
    "    epsilon_min = epsilon_min,\n",
    "    epsilon_decay = epsilon_decay,\n",
    "    learning_rate = learning_rate,\n",
    "    seed = seed)\n",
    "testing_agent.load(folder + '/trained_model.pth')"
   ]
  },
  {
   "cell_type": "code",
   "execution_count": 8,
   "metadata": {},
   "outputs": [],
   "source": [
    "def testing(env, test, seed):\n",
    "    state, info = env.reset(seed=seed)\n",
    "    env = gym.wrappers.RecordVideo(env=env, video_folder=folder + '/Video', video_length=0)\n",
    "\n",
    "    init_state = process_state_image(state)\n",
    "\n",
    "    state_frame_stack_queue = deque([init_state] * test.frame_stack_num, maxlen=test.frame_stack_num)\n",
    "    total_reward = 0\n",
    "\n",
    "    while True:\n",
    "        current_state_frame_stack = generate_state_frame_stack_from_queue(state_frame_stack_queue)\n",
    "        action = test.act(current_state_frame_stack, testing=True)\n",
    "\n",
    "        reward = 0\n",
    "        for _ in range(frame_stack_num-1):\n",
    "            next_state, r, terminated, truncated, info = env.step(action)\n",
    "            if terminated or truncated:\n",
    "                done = True\n",
    "            else:\n",
    "                done = False\n",
    "            reward += r\n",
    "            if done:\n",
    "                break\n",
    "\n",
    "        total_reward += reward\n",
    "\n",
    "        next_state = process_state_image(next_state)\n",
    "        state_frame_stack_queue.append(next_state)\n",
    "\n",
    "        if done:\n",
    "            break\n",
    "\n",
    "    print(f\"Total reward after playing the game once: {total_reward}\")\n",
    "    env.close()\n",
    "    return total_reward"
   ]
  },
  {
   "cell_type": "code",
   "execution_count": 9,
   "metadata": {},
   "outputs": [
    {
     "name": "stdout",
     "output_type": "stream",
     "text": [
      "Moviepy - Building video c:\\Users\\fabia\\Desktop\\Studium\\RL\\RL_CarRacing\\Training\\runs\\run_20240703161917\\Videos\\rl-video-episode-0.mp4.\n",
      "Moviepy - Writing video c:\\Users\\fabia\\Desktop\\Studium\\RL\\RL_CarRacing\\Training\\runs\\run_20240703161917\\Videos\\rl-video-episode-0.mp4\n",
      "\n"
     ]
    },
    {
     "name": "stderr",
     "output_type": "stream",
     "text": [
      "                                                                "
     ]
    },
    {
     "name": "stdout",
     "output_type": "stream",
     "text": [
      "Moviepy - Done !\n",
      "Moviepy - video ready c:\\Users\\fabia\\Desktop\\Studium\\RL\\RL_CarRacing\\Training\\runs\\run_20240703161917\\Videos\\rl-video-episode-0.mp4\n",
      "Total reward after playing the game once: -26.315789473684077\n"
     ]
    },
    {
     "name": "stderr",
     "output_type": "stream",
     "text": [
      "\r"
     ]
    },
    {
     "data": {
      "text/plain": [
       "-26.315789473684077"
      ]
     },
     "execution_count": 9,
     "metadata": {},
     "output_type": "execute_result"
    }
   ],
   "source": [
    "testing(env, testing_agent, seed);"
   ]
  }
 ],
 "metadata": {
  "kernelspec": {
   "display_name": "car",
   "language": "python",
   "name": "python3"
  },
  "language_info": {
   "codemirror_mode": {
    "name": "ipython",
    "version": 3
   },
   "file_extension": ".py",
   "mimetype": "text/x-python",
   "name": "python",
   "nbconvert_exporter": "python",
   "pygments_lexer": "ipython3",
   "version": "3.10.0"
  }
 },
 "nbformat": 4,
 "nbformat_minor": 2
}
